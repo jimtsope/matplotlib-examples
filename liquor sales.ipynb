{
 "cells": [
  {
   "cell_type": "code",
   "execution_count": 2,
   "metadata": {},
   "outputs": [],
   "source": [
    "import pandas as pd\n",
    "import numpy as np\n",
    "from datetime import datetime\n",
    "import matplotlib.pyplot as plt"
   ]
  },
  {
   "cell_type": "code",
   "execution_count": 4,
   "metadata": {},
   "outputs": [],
   "source": [
    "lq = pd.read_csv('lq_final.csv')"
   ]
  },
  {
   "cell_type": "code",
   "execution_count": 5,
   "metadata": {},
   "outputs": [
    {
     "data": {
      "text/html": [
       "<div>\n",
       "<style scoped>\n",
       "    .dataframe tbody tr th:only-of-type {\n",
       "        vertical-align: middle;\n",
       "    }\n",
       "\n",
       "    .dataframe tbody tr th {\n",
       "        vertical-align: top;\n",
       "    }\n",
       "\n",
       "    .dataframe thead th {\n",
       "        text-align: right;\n",
       "    }\n",
       "</style>\n",
       "<table border=\"1\" class=\"dataframe\">\n",
       "  <thead>\n",
       "    <tr style=\"text-align: right;\">\n",
       "      <th></th>\n",
       "      <th>invoice_and_item_number</th>\n",
       "      <th>date</th>\n",
       "      <th>store_number</th>\n",
       "      <th>store_name</th>\n",
       "      <th>address</th>\n",
       "      <th>city</th>\n",
       "      <th>zip_code</th>\n",
       "      <th>store_location</th>\n",
       "      <th>county_number</th>\n",
       "      <th>county</th>\n",
       "      <th>...</th>\n",
       "      <th>item_number</th>\n",
       "      <th>item_description</th>\n",
       "      <th>pack</th>\n",
       "      <th>bottle_volume_ml</th>\n",
       "      <th>state_bottle_cost</th>\n",
       "      <th>state_bottle_retail</th>\n",
       "      <th>bottles_sold</th>\n",
       "      <th>sale_dollars</th>\n",
       "      <th>volume_sold_liters</th>\n",
       "      <th>volume_sold_gallons</th>\n",
       "    </tr>\n",
       "  </thead>\n",
       "  <tbody>\n",
       "    <tr>\n",
       "      <th>0</th>\n",
       "      <td>S30192200003</td>\n",
       "      <td>2016-01-13 00:00:00</td>\n",
       "      <td>3772</td>\n",
       "      <td>Shop N Save #1 / Mlk Pkwy</td>\n",
       "      <td>2127 M L KING JR PKWY</td>\n",
       "      <td>DES MOINES</td>\n",
       "      <td>50314.0</td>\n",
       "      <td>NaN</td>\n",
       "      <td>77</td>\n",
       "      <td>Polk</td>\n",
       "      <td>...</td>\n",
       "      <td>56193</td>\n",
       "      <td>Paul Masson Peach Grande Amber Brandy</td>\n",
       "      <td>24</td>\n",
       "      <td>200</td>\n",
       "      <td>1.96</td>\n",
       "      <td>2.94</td>\n",
       "      <td>24</td>\n",
       "      <td>70.56</td>\n",
       "      <td>4.8</td>\n",
       "      <td>1.27</td>\n",
       "    </tr>\n",
       "    <tr>\n",
       "      <th>1</th>\n",
       "      <td>S30234800064</td>\n",
       "      <td>2016-01-15 00:00:00</td>\n",
       "      <td>4829</td>\n",
       "      <td>Central City 2</td>\n",
       "      <td>1501 MICHIGAN AVE</td>\n",
       "      <td>DES MOINES</td>\n",
       "      <td>50314.0</td>\n",
       "      <td>POINT (-93.613739 41.60572)</td>\n",
       "      <td>77</td>\n",
       "      <td>Polk</td>\n",
       "      <td>...</td>\n",
       "      <td>86251</td>\n",
       "      <td>Juarez Triple Sec</td>\n",
       "      <td>12</td>\n",
       "      <td>1000</td>\n",
       "      <td>2.42</td>\n",
       "      <td>3.63</td>\n",
       "      <td>60</td>\n",
       "      <td>217.80</td>\n",
       "      <td>60.0</td>\n",
       "      <td>15.85</td>\n",
       "    </tr>\n",
       "    <tr>\n",
       "      <th>2</th>\n",
       "      <td>S30348700047</td>\n",
       "      <td>2016-01-25 00:00:00</td>\n",
       "      <td>3162</td>\n",
       "      <td>Nash Finch / Wholesale Food</td>\n",
       "      <td>807 GRANDVIEW</td>\n",
       "      <td>MUSCATINE</td>\n",
       "      <td>52761.0</td>\n",
       "      <td>POINT (-91.06411300000002 41.408437)</td>\n",
       "      <td>70</td>\n",
       "      <td>Muscatine</td>\n",
       "      <td>...</td>\n",
       "      <td>82847</td>\n",
       "      <td>Dekuyper Peachtree</td>\n",
       "      <td>12</td>\n",
       "      <td>1000</td>\n",
       "      <td>7.62</td>\n",
       "      <td>11.43</td>\n",
       "      <td>4</td>\n",
       "      <td>45.72</td>\n",
       "      <td>4.0</td>\n",
       "      <td>1.06</td>\n",
       "    </tr>\n",
       "    <tr>\n",
       "      <th>3</th>\n",
       "      <td>S30390600011</td>\n",
       "      <td>2016-01-26 00:00:00</td>\n",
       "      <td>2641</td>\n",
       "      <td>Hy-Vee Drugstore / Council Bluffs</td>\n",
       "      <td>757 W BROADWAY</td>\n",
       "      <td>COUNCIL BLUFFS</td>\n",
       "      <td>51501.0</td>\n",
       "      <td>POINT (-95.855054 41.261673)</td>\n",
       "      <td>78</td>\n",
       "      <td>Pottawattamie</td>\n",
       "      <td>...</td>\n",
       "      <td>81124</td>\n",
       "      <td>99 Peppermint Mini</td>\n",
       "      <td>10</td>\n",
       "      <td>600</td>\n",
       "      <td>5.94</td>\n",
       "      <td>8.91</td>\n",
       "      <td>2</td>\n",
       "      <td>17.82</td>\n",
       "      <td>1.2</td>\n",
       "      <td>0.32</td>\n",
       "    </tr>\n",
       "    <tr>\n",
       "      <th>4</th>\n",
       "      <td>S30466200002</td>\n",
       "      <td>2016-02-01 00:00:00</td>\n",
       "      <td>2633</td>\n",
       "      <td>Hy-Vee #3 / BDI / Des Moines</td>\n",
       "      <td>3221 SE 14TH ST</td>\n",
       "      <td>DES MOINES</td>\n",
       "      <td>50320.0</td>\n",
       "      <td>POINT (-93.596754 41.554101)</td>\n",
       "      <td>77</td>\n",
       "      <td>Polk</td>\n",
       "      <td>...</td>\n",
       "      <td>973627</td>\n",
       "      <td>Di Amore Quattro Orange</td>\n",
       "      <td>12</td>\n",
       "      <td>1000</td>\n",
       "      <td>9.75</td>\n",
       "      <td>14.63</td>\n",
       "      <td>120</td>\n",
       "      <td>1755.60</td>\n",
       "      <td>120.0</td>\n",
       "      <td>31.70</td>\n",
       "    </tr>\n",
       "  </tbody>\n",
       "</table>\n",
       "<p>5 rows × 24 columns</p>\n",
       "</div>"
      ],
      "text/plain": [
       "  invoice_and_item_number                 date  store_number  \\\n",
       "0            S30192200003  2016-01-13 00:00:00          3772   \n",
       "1            S30234800064  2016-01-15 00:00:00          4829   \n",
       "2            S30348700047  2016-01-25 00:00:00          3162   \n",
       "3            S30390600011  2016-01-26 00:00:00          2641   \n",
       "4            S30466200002  2016-02-01 00:00:00          2633   \n",
       "\n",
       "                          store_name                address            city  \\\n",
       "0          Shop N Save #1 / Mlk Pkwy  2127 M L KING JR PKWY      DES MOINES   \n",
       "1                     Central City 2      1501 MICHIGAN AVE      DES MOINES   \n",
       "2        Nash Finch / Wholesale Food          807 GRANDVIEW       MUSCATINE   \n",
       "3  Hy-Vee Drugstore / Council Bluffs         757 W BROADWAY  COUNCIL BLUFFS   \n",
       "4       Hy-Vee #3 / BDI / Des Moines        3221 SE 14TH ST      DES MOINES   \n",
       "\n",
       "   zip_code                        store_location  county_number  \\\n",
       "0   50314.0                                   NaN             77   \n",
       "1   50314.0           POINT (-93.613739 41.60572)             77   \n",
       "2   52761.0  POINT (-91.06411300000002 41.408437)             70   \n",
       "3   51501.0          POINT (-95.855054 41.261673)             78   \n",
       "4   50320.0          POINT (-93.596754 41.554101)             77   \n",
       "\n",
       "          county         ...           item_number  \\\n",
       "0           Polk         ...                 56193   \n",
       "1           Polk         ...                 86251   \n",
       "2      Muscatine         ...                 82847   \n",
       "3  Pottawattamie         ...                 81124   \n",
       "4           Polk         ...                973627   \n",
       "\n",
       "                        item_description  pack bottle_volume_ml  \\\n",
       "0  Paul Masson Peach Grande Amber Brandy    24              200   \n",
       "1                      Juarez Triple Sec    12             1000   \n",
       "2                     Dekuyper Peachtree    12             1000   \n",
       "3                     99 Peppermint Mini    10              600   \n",
       "4                Di Amore Quattro Orange    12             1000   \n",
       "\n",
       "   state_bottle_cost state_bottle_retail  bottles_sold  sale_dollars  \\\n",
       "0               1.96                2.94            24         70.56   \n",
       "1               2.42                3.63            60        217.80   \n",
       "2               7.62               11.43             4         45.72   \n",
       "3               5.94                8.91             2         17.82   \n",
       "4               9.75               14.63           120       1755.60   \n",
       "\n",
       "   volume_sold_liters  volume_sold_gallons  \n",
       "0                 4.8                 1.27  \n",
       "1                60.0                15.85  \n",
       "2                 4.0                 1.06  \n",
       "3                 1.2                 0.32  \n",
       "4               120.0                31.70  \n",
       "\n",
       "[5 rows x 24 columns]"
      ]
     },
     "execution_count": 5,
     "metadata": {},
     "output_type": "execute_result"
    }
   ],
   "source": [
    "lq.head()"
   ]
  },
  {
   "cell_type": "code",
   "execution_count": 7,
   "metadata": {},
   "outputs": [
    {
     "data": {
      "text/plain": [
       "invoice_and_item_number    0\n",
       "date                       0\n",
       "store_number               0\n",
       "store_name                 0\n",
       "address                    0\n",
       "city                       0\n",
       "zip_code                   0\n",
       "store_location             9\n",
       "county_number              0\n",
       "county                     0\n",
       "category                   0\n",
       "category_name              6\n",
       "vendor_number              0\n",
       "vendor_name                0\n",
       "item_number                0\n",
       "item_description           0\n",
       "pack                       0\n",
       "bottle_volume_ml           0\n",
       "state_bottle_cost          0\n",
       "state_bottle_retail        0\n",
       "bottles_sold               0\n",
       "sale_dollars               0\n",
       "volume_sold_liters         0\n",
       "volume_sold_gallons        0\n",
       "dtype: int64"
      ]
     },
     "execution_count": 7,
     "metadata": {},
     "output_type": "execute_result"
    }
   ],
   "source": [
    "missing_values_count = lq.isnull().sum()\n",
    "missing_values_count[:]"
   ]
  },
  {
   "cell_type": "code",
   "execution_count": 8,
   "metadata": {},
   "outputs": [],
   "source": [
    "lq = lq.drop_duplicates()"
   ]
  },
  {
   "cell_type": "code",
   "execution_count": 9,
   "metadata": {},
   "outputs": [],
   "source": [
    "lq = lq.dropna(subset=['store_location','category_name'])"
   ]
  },
  {
   "cell_type": "code",
   "execution_count": 10,
   "metadata": {},
   "outputs": [
    {
     "data": {
      "text/plain": [
       "invoice_and_item_number    0\n",
       "date                       0\n",
       "store_number               0\n",
       "store_name                 0\n",
       "address                    0\n",
       "city                       0\n",
       "zip_code                   0\n",
       "store_location             0\n",
       "county_number              0\n",
       "county                     0\n",
       "category                   0\n",
       "category_name              0\n",
       "vendor_number              0\n",
       "vendor_name                0\n",
       "item_number                0\n",
       "item_description           0\n",
       "pack                       0\n",
       "bottle_volume_ml           0\n",
       "state_bottle_cost          0\n",
       "state_bottle_retail        0\n",
       "bottles_sold               0\n",
       "sale_dollars               0\n",
       "volume_sold_liters         0\n",
       "volume_sold_gallons        0\n",
       "dtype: int64"
      ]
     },
     "execution_count": 10,
     "metadata": {},
     "output_type": "execute_result"
    }
   ],
   "source": [
    "missing_values_count = lq.isnull().sum()\n",
    "missing_values_count[:]"
   ]
  },
  {
   "cell_type": "code",
   "execution_count": 26,
   "metadata": {},
   "outputs": [],
   "source": [
    "\n",
    "k=np.array(lq.groupby(['zip_code','store_number'])['bottles_sold'].sum())"
   ]
  },
  {
   "cell_type": "code",
   "execution_count": 28,
   "metadata": {},
   "outputs": [
    {
     "data": {
      "image/png": "[encoded data removed]",
      "text/plain": [
       "<Figure size 432x288 with 1 Axes>"
      ]
     },
     "metadata": {
      "needs_background": "light"
     },
     "output_type": "display_data"
    }
   ],
   "source": [
    "plt.plot(k,'o',markerfacecolor='blue',markersize=5)\n",
    "\n",
    "plt.title(\"Bottles Sold\")\n",
    "plt.xlabel(\"Zip Code\")\n",
    "plt.ylabel(\"Store Number\")\n",
    " \n",
    "plt.show()"
   ]
  },
  {
   "cell_type": "code",
   "execution_count": 17,
   "metadata": {},
   "outputs": [],
   "source": [
    "#Use Python and Pandas to Aggregate the CSV data so we can get the most popular item \n",
    "#sold based on zip code and percentage of sales per store.\n",
    "\n",
    "z=np.array(lq.groupby(['item_number','zip_code'])['bottles_sold'].sum())"
   ]
  },
  {
   "cell_type": "code",
   "execution_count": 23,
   "metadata": {},
   "outputs": [
    {
     "data": {
      "image/png": "[encoded data removed]",
      "text/plain": [
       "<Figure size 432x288 with 1 Axes>"
      ]
     },
     "metadata": {
      "needs_background": "light"
     },
     "output_type": "display_data"
    }
   ],
   "source": [
    "#Use Matplotlib or Tableau with the newly made CSV file and present your Data.\n",
    " \n",
    "plt.plot(z,'o',markerfacecolor='red',markersize=5)\n",
    "\n",
    "plt.title(\"Bottles Sold\")\n",
    "plt.xlabel(\"Zip Code\")\n",
    "plt.ylabel(\"Bottles Sold\")\n",
    " \n",
    "plt.show()"
   ]
  }
 ],
 "metadata": {
  "kernelspec": {
   "display_name": "Python 3",
   "language": "python",
   "name": "python3"
  },
  "language_info": {
   "codemirror_mode": {
    "name": "ipython",
    "version": 3
   },
   "file_extension": ".py",
   "mimetype": "text/x-python",
   "name": "python",
   "nbconvert_exporter": "python",
   "pygments_lexer": "ipython3",
   "version": "3.7.0"
  }
 },
 "nbformat": 4,
 "nbformat_minor": 2
}
